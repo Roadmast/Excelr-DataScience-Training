{
  "nbformat": 4,
  "nbformat_minor": 0,
  "metadata": {
    "colab": {
      "provenance": []
    },
    "kernelspec": {
      "name": "python3",
      "display_name": "Python 3"
    },
    "language_info": {
      "name": "python"
    }
  },
  "cells": [
    {
      "cell_type": "code",
      "execution_count": 1,
      "metadata": {
        "id": "N1_h0_-7UA39",
        "colab": {
          "base_uri": "https://localhost:8080/"
        },
        "outputId": "4b0d9530-5c5f-4caf-ec3d-df84eafa68af"
      },
      "outputs": [
        {
          "output_type": "stream",
          "name": "stdout",
          "text": [
            "Excellent\n"
          ]
        }
      ],
      "source": [
        "rating = 4.3\n",
        "if (rating>4.2) :\n",
        "  print('Excellent')"
      ]
    },
    {
      "cell_type": "code",
      "source": [
        "rating = 3.9\n",
        "if (rating>4.2) :\n",
        "  print('Excellent')"
      ],
      "metadata": {
        "id": "OtOjfw0AGRiv"
      },
      "execution_count": 3,
      "outputs": []
    },
    {
      "cell_type": "code",
      "source": [
        "rating = 4.3\n",
        "if (rating>4.2) :\n",
        "  print('Excellent')\n",
        "else:\n",
        "  print('Needs Improvement')"
      ],
      "metadata": {
        "colab": {
          "base_uri": "https://localhost:8080/"
        },
        "id": "iQ3otXrYIAFK",
        "outputId": "9f693624-6fcc-416b-c0a2-a692cf825ce4"
      },
      "execution_count": 4,
      "outputs": [
        {
          "output_type": "stream",
          "name": "stdout",
          "text": [
            "Excellent\n"
          ]
        }
      ]
    },
    {
      "cell_type": "code",
      "source": [
        "rating = 3.5\n",
        "if (rating>4.2) :\n",
        "  print('Excellent')\n",
        "else:\n",
        "  print('Needs Improvement')"
      ],
      "metadata": {
        "colab": {
          "base_uri": "https://localhost:8080/"
        },
        "id": "ZbLy3oTBIUk3",
        "outputId": "cfcf0c34-d365-483d-a760-8891a6002c3c"
      },
      "execution_count": 5,
      "outputs": [
        {
          "output_type": "stream",
          "name": "stdout",
          "text": [
            "Needs Improvement\n"
          ]
        }
      ]
    },
    {
      "cell_type": "code",
      "source": [
        "speed = 50\n",
        "if speed<40:\n",
        "  print('Speed is Low')\n",
        "elif (speed>=40) & (speed<100):\n",
        "  print('Speed is Medium')\n",
        "else:\n",
        "  print('Speed is High')"
      ],
      "metadata": {
        "colab": {
          "base_uri": "https://localhost:8080/"
        },
        "id": "Mmfc5KsMIa6-",
        "outputId": "4a8b9b90-3102-4b18-c022-9d6b44cc1f49"
      },
      "execution_count": 8,
      "outputs": [
        {
          "output_type": "stream",
          "name": "stdout",
          "text": [
            "Speed is Medium\n"
          ]
        }
      ]
    },
    {
      "cell_type": "markdown",
      "source": [
        "- If student marks are between 0 to 34, then Fail\n",
        "- If student marks are between 35 to 59, then Second Division\n",
        "- If student marks are between 60 to 74, then First Division\n",
        "- If student marks are between 75 to 100, then Distinction\n",
        "-Any other value is 'Invalid'"
      ],
      "metadata": {
        "id": "lwa1gb91K-zy"
      }
    },
    {
      "cell_type": "code",
      "source": [
        "marks = int(input('Enter the marks: '))\n",
        "if (marks>=0) & (marks<=34):\n",
        "  print('Fail')\n",
        "elif (marks>=35) & (marks<=59):\n",
        "  print('Second Division')\n",
        "elif (marks>=60) & (marks<=74):\n",
        "  print('First Division')\n",
        "elif (marks>=75) & (marks<=100):\n",
        "  print('Distinction')\n",
        "else:\n",
        "  print('Invalid Value')"
      ],
      "metadata": {
        "colab": {
          "base_uri": "https://localhost:8080/"
        },
        "id": "_6QTsR3yJ1ee",
        "outputId": "a5a2da83-f530-47f6-b66d-c4ed2a7a11f8"
      },
      "execution_count": 9,
      "outputs": [
        {
          "output_type": "stream",
          "name": "stdout",
          "text": [
            "Enter the marks: 45\n",
            "Second Division\n"
          ]
        }
      ]
    },
    {
      "cell_type": "code",
      "source": [
        "marks = int(input('Enter the marks: '))\n",
        "if (0<=marks<=34):\n",
        "  print('Fail')\n",
        "elif (35<=marks<=59):\n",
        "  print('Second Division')\n",
        "elif (60<=marks<=74):\n",
        "  print('First Division')\n",
        "elif (75<=marks<=100):\n",
        "  print('Distinction')\n",
        "else:\n",
        "  print('Invalid Value')"
      ],
      "metadata": {
        "colab": {
          "base_uri": "https://localhost:8080/"
        },
        "id": "1ClVATbKIU0J",
        "outputId": "30496ef9-f3b8-4b2c-d4cb-17276c171097"
      },
      "execution_count": 10,
      "outputs": [
        {
          "output_type": "stream",
          "name": "stdout",
          "text": [
            "Enter the marks: 76\n",
            "Distinction\n"
          ]
        }
      ]
    },
    {
      "cell_type": "code",
      "source": [
        "marks = float(input('Enter the marks: '))\n",
        "if (0<=marks<=34):\n",
        "  print('Fail')\n",
        "elif (35<=marks<=59):\n",
        "  print('Second Division')\n",
        "elif (60<=marks<=74):\n",
        "  print('First Division')\n",
        "elif (75<=marks<=100):\n",
        "  print('Distinction')\n",
        "else:\n",
        "  print('Invalid Value')"
      ],
      "metadata": {
        "colab": {
          "base_uri": "https://localhost:8080/"
        },
        "id": "6KvBKgZsOl3q",
        "outputId": "06a68de8-b2df-45fe-8dfd-357a754f6657"
      },
      "execution_count": 15,
      "outputs": [
        {
          "output_type": "stream",
          "name": "stdout",
          "text": [
            "Enter the marks: -96.3\n",
            "Invalid Value\n"
          ]
        }
      ]
    },
    {
      "cell_type": "code",
      "source": [
        "marks = float(input('Enter the marks: '))\n",
        "if (0<=marks<35):\n",
        "  print('Fail')\n",
        "elif (35<=marks<60):\n",
        "  print('Second Division')\n",
        "elif (60<=marks<75):\n",
        "  print('First Division')\n",
        "elif (75<=marks<=100):\n",
        "  print('Distinction')\n",
        "else:\n",
        "  print('Invalid Value')"
      ],
      "metadata": {
        "colab": {
          "base_uri": "https://localhost:8080/"
        },
        "id": "mwqDKrnVPKp1",
        "outputId": "d87e7791-1cf0-4aa9-dec0-246d2746289d"
      },
      "execution_count": 16,
      "outputs": [
        {
          "output_type": "stream",
          "name": "stdout",
          "text": [
            "Enter the marks: 34.5\n",
            "Fail\n"
          ]
        }
      ]
    },
    {
      "cell_type": "code",
      "source": [
        "a = [4,5,6,9,3,2,1,4,7,8,5,6,9,8,1,2,1,4]\n",
        "count=0\n",
        "for i in a:\n",
        "  count+=1\n",
        "print(count)"
      ],
      "metadata": {
        "colab": {
          "base_uri": "https://localhost:8080/"
        },
        "id": "w7DGBeUuRuZa",
        "outputId": "723d596f-001c-415e-fb7a-eb8dd5407113"
      },
      "execution_count": 17,
      "outputs": [
        {
          "output_type": "stream",
          "name": "stdout",
          "text": [
            "18\n"
          ]
        }
      ]
    },
    {
      "cell_type": "code",
      "source": [
        "a = [4,5,6,9,3,2,1,4,7,8,5,6,9,8,1,2,1,4]\n",
        "count=0\n",
        "for i in a:\n",
        "  if i%2==0:\n",
        "    print(i, 'is divisible by 2')\n",
        "    count+=1\n",
        "    print('Now the count is: ',count)\n",
        "print(count,'numbers are divisible by 2 in this list')"
      ],
      "metadata": {
        "colab": {
          "base_uri": "https://localhost:8080/"
        },
        "id": "tZtROgxlXgSz",
        "outputId": "7464c39a-9ce4-47b2-a68a-0e50118ed379"
      },
      "execution_count": 21,
      "outputs": [
        {
          "output_type": "stream",
          "name": "stdout",
          "text": [
            "4 is divisible by 2\n",
            "Now the count is:  1\n",
            "6 is divisible by 2\n",
            "Now the count is:  2\n",
            "2 is divisible by 2\n",
            "Now the count is:  3\n",
            "4 is divisible by 2\n",
            "Now the count is:  4\n",
            "8 is divisible by 2\n",
            "Now the count is:  5\n",
            "6 is divisible by 2\n",
            "Now the count is:  6\n",
            "8 is divisible by 2\n",
            "Now the count is:  7\n",
            "2 is divisible by 2\n",
            "Now the count is:  8\n",
            "4 is divisible by 2\n",
            "Now the count is:  9\n",
            "9 numbers are divisible by 2 in this list\n"
          ]
        }
      ]
    },
    {
      "cell_type": "code",
      "source": [
        "a = [4,5,6,9,3,2,1,4,7,8,5,6,9,8,1,2,1,4]\n",
        "print(a)\n",
        "print(list(range(len(a))))\n",
        "for i in range(len(a)):\n",
        "  if a[i]==1:\n",
        "    print(i)"
      ],
      "metadata": {
        "colab": {
          "base_uri": "https://localhost:8080/"
        },
        "id": "u97EjzdScsbL",
        "outputId": "d452a346-65c6-490d-c858-006518038477"
      },
      "execution_count": 24,
      "outputs": [
        {
          "output_type": "stream",
          "name": "stdout",
          "text": [
            "[4, 5, 6, 9, 3, 2, 1, 4, 7, 8, 5, 6, 9, 8, 1, 2, 1, 4]\n",
            "[0, 1, 2, 3, 4, 5, 6, 7, 8, 9, 10, 11, 12, 13, 14, 15, 16, 17]\n",
            "6\n",
            "14\n",
            "16\n"
          ]
        }
      ]
    },
    {
      "cell_type": "code",
      "source": [
        "letter = input('Enter the letter: ')\n",
        "if (letter=='a') | (letter=='e') | (letter=='i') | (letter=='o') | (letter=='u'):\n",
        "  print(letter,'is a vowel')\n",
        "else:\n",
        "  print(letter,'is a consonent')"
      ],
      "metadata": {
        "colab": {
          "base_uri": "https://localhost:8080/"
        },
        "id": "kHxm_sl6ctgg",
        "outputId": "a412694b-aeab-410f-b540-9c5b59a9718d"
      },
      "execution_count": 28,
      "outputs": [
        {
          "output_type": "stream",
          "name": "stdout",
          "text": [
            "Enter the letter: e\n",
            "e is a vowel\n"
          ]
        }
      ]
    },
    {
      "cell_type": "code",
      "source": [
        "letter = input('Enter the letter: ')\n",
        "vowels=['A','a','E','e','I','i','O','o','U','u']\n",
        "if letter in vowels:\n",
        "  print(letter,'is a vowel')\n",
        "else:\n",
        "  print(letter,'is a consonent')"
      ],
      "metadata": {
        "colab": {
          "base_uri": "https://localhost:8080/"
        },
        "id": "N4naUCBmgc69",
        "outputId": "9958a55a-fb9d-480e-9f4d-360dfadbaffc"
      },
      "execution_count": 31,
      "outputs": [
        {
          "output_type": "stream",
          "name": "stdout",
          "text": [
            "Enter the letter: N\n",
            "N is a consonent\n"
          ]
        }
      ]
    },
    {
      "cell_type": "code",
      "source": [],
      "metadata": {
        "id": "qcfa0maNgCeQ"
      },
      "execution_count": null,
      "outputs": []
    },
    {
      "cell_type": "code",
      "source": [],
      "metadata": {
        "id": "JjRvoswectkR"
      },
      "execution_count": null,
      "outputs": []
    },
    {
      "cell_type": "code",
      "source": [],
      "metadata": {
        "id": "i0opJZQ0ctn4"
      },
      "execution_count": null,
      "outputs": []
    },
    {
      "cell_type": "code",
      "source": [],
      "metadata": {
        "id": "bv0xT9EnZQJm"
      },
      "execution_count": null,
      "outputs": []
    },
    {
      "cell_type": "code",
      "source": [],
      "metadata": {
        "id": "jmGogNafXEPl"
      },
      "execution_count": null,
      "outputs": []
    },
    {
      "cell_type": "code",
      "source": [],
      "metadata": {
        "id": "h8NBJHcDXES8"
      },
      "execution_count": null,
      "outputs": []
    }
  ]
}
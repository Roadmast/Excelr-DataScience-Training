{
  "nbformat": 4,
  "nbformat_minor": 0,
  "metadata": {
    "colab": {
      "provenance": []
    },
    "kernelspec": {
      "name": "python3",
      "display_name": "Python 3"
    },
    "language_info": {
      "name": "python"
    }
  },
  "cells": [
    {
      "cell_type": "code",
      "execution_count": null,
      "metadata": {
        "colab": {
          "base_uri": "https://localhost:8080/"
        },
        "id": "bEJ2K-0sU8MR",
        "outputId": "860773e4-ea31-46af-8a1b-71e3a8b5074d"
      },
      "outputs": [
        {
          "output_type": "stream",
          "name": "stdout",
          "text": [
            "Excellent\n"
          ]
        }
      ],
      "source": [
        "rating = 4.2\n",
        "if (rating>4):\n",
        "  print('Excellent')"
      ]
    },
    {
      "cell_type": "code",
      "source": [
        "rating = 3.6\n",
        "if (rating>4):\n",
        "  print('Excellent')"
      ],
      "metadata": {
        "id": "u41iNQMZV9ZL"
      },
      "execution_count": null,
      "outputs": []
    },
    {
      "cell_type": "code",
      "source": [
        "rating = 3.8\n",
        "if (rating>4):\n",
        "  print('Excellent')\n",
        "else:\n",
        "  print('Good')"
      ],
      "metadata": {
        "colab": {
          "base_uri": "https://localhost:8080/"
        },
        "id": "grRRBRbfWnPD",
        "outputId": "4eb5ab14-5164-4524-8598-68365289aef6"
      },
      "execution_count": null,
      "outputs": [
        {
          "output_type": "stream",
          "name": "stdout",
          "text": [
            "Good\n"
          ]
        }
      ]
    },
    {
      "cell_type": "code",
      "source": [
        "rating = 4.3\n",
        "if (rating>4):\n",
        "  print('Excellent')\n",
        "else:\n",
        "  print('Good')"
      ],
      "metadata": {
        "colab": {
          "base_uri": "https://localhost:8080/"
        },
        "id": "IaRZFprVXSol",
        "outputId": "4381a825-0b23-47bb-b41e-64daab9dad95"
      },
      "execution_count": null,
      "outputs": [
        {
          "output_type": "stream",
          "name": "stdout",
          "text": [
            "Excellent\n"
          ]
        }
      ]
    },
    {
      "cell_type": "code",
      "source": [
        "rating = 3.6\n",
        "if (rating>4.2) & (rating<=5):\n",
        "  print('Excellent')\n",
        "elif (rating>3.5) & (rating<=4.2) :\n",
        "  print('Good')\n",
        "elif (rating>3) & (rating<=3.5) :\n",
        "  print('Average')\n",
        "else:\n",
        "  print('Needs improvement')"
      ],
      "metadata": {
        "colab": {
          "base_uri": "https://localhost:8080/"
        },
        "id": "qNbksZHyXaIV",
        "outputId": "4d98015b-805e-4aed-f519-a7716d07cccb"
      },
      "execution_count": null,
      "outputs": [
        {
          "output_type": "stream",
          "name": "stdout",
          "text": [
            "Good\n"
          ]
        }
      ]
    },
    {
      "cell_type": "markdown",
      "source": [
        "# Please write one command for the below questions.\n",
        "1. Find each element that is divisible by 3.\n",
        "2. For each element that is divisible by 3, add 2 to each of those elements.\n",
        "3. Check which elements divisible by 3 & are greater than 30, and print only those."
      ],
      "metadata": {
        "id": "D1GUfIE0szOo"
      }
    },
    {
      "cell_type": "code",
      "source": [
        "list1 = [2,6,8,12,85,56,14,23,74,48,25,71,13,27,14,54]\n",
        "print(list1)\n",
        "for i in range(len(list1)):      #i=0,1,2,3,4,5......16\n",
        "  if list1[i]%3==0:\n",
        "    if (list1[i]>30):\n",
        "      print(list1[i])\n",
        "    list1[i]+=2         #list1[i] =list1[i] + 2\n",
        "print(list1)"
      ],
      "metadata": {
        "colab": {
          "base_uri": "https://localhost:8080/"
        },
        "id": "9MauyzdNZ6mE",
        "outputId": "fd1b27d2-9b64-4cd6-a894-f947068ce8d0"
      },
      "execution_count": null,
      "outputs": [
        {
          "output_type": "stream",
          "name": "stdout",
          "text": [
            "[2, 6, 8, 12, 85, 56, 14, 23, 74, 48, 25, 71, 13, 27, 14, 54]\n",
            "48\n",
            "54\n",
            "[2, 8, 8, 14, 85, 56, 14, 23, 74, 50, 25, 71, 13, 29, 14, 56]\n"
          ]
        }
      ]
    },
    {
      "cell_type": "code",
      "source": [
        "list1 = [7,4,5,2,1,5,7,8,9,6,5,4,1,2,3,5,6]\n",
        "#Find the indices of all occurrences of the number 5 in the list1"
      ],
      "metadata": {
        "id": "9qBJM7mbfpMu"
      },
      "execution_count": null,
      "outputs": []
    },
    {
      "cell_type": "code",
      "source": [
        "len(list1)"
      ],
      "metadata": {
        "colab": {
          "base_uri": "https://localhost:8080/"
        },
        "id": "tTrdt30drPoM",
        "outputId": "79970b73-731a-4b0b-b7d8-0844f88b828f"
      },
      "execution_count": null,
      "outputs": [
        {
          "output_type": "execute_result",
          "data": {
            "text/plain": [
              "17"
            ]
          },
          "metadata": {},
          "execution_count": 14
        }
      ]
    },
    {
      "cell_type": "code",
      "source": [
        "for i in range(len(list1)):\n",
        "  if list1[i] ==5:\n",
        "    print(i)"
      ],
      "metadata": {
        "colab": {
          "base_uri": "https://localhost:8080/"
        },
        "id": "015-Jlwfl3Fb",
        "outputId": "37147581-452a-44f5-b304-b5f639b78452"
      },
      "execution_count": null,
      "outputs": [
        {
          "output_type": "stream",
          "name": "stdout",
          "text": [
            "2\n",
            "5\n",
            "10\n",
            "15\n"
          ]
        }
      ]
    },
    {
      "cell_type": "code",
      "source": [
        "list1 = [7,4,5,2,1,5,7,8,9,6,5,4,1,2,3,5,6]\n",
        "#Write a for loop which can print only the unique values from this list."
      ],
      "metadata": {
        "id": "8leGWR0bsBzu"
      },
      "execution_count": null,
      "outputs": []
    },
    {
      "cell_type": "code",
      "source": [
        "num = int(input('Please enter a number: '))\n",
        "for i in range(1,num+1):\n",
        "  if (num%i == 0):\n",
        "    print(i)"
      ],
      "metadata": {
        "id": "QVayCUYDrikY",
        "colab": {
          "base_uri": "https://localhost:8080/"
        },
        "outputId": "ef3abef9-480a-4972-b9ee-d334f215ce56"
      },
      "execution_count": null,
      "outputs": [
        {
          "output_type": "stream",
          "name": "stdout",
          "text": [
            "Please enter a number: 24\n",
            "1\n",
            "2\n",
            "3\n",
            "4\n",
            "6\n",
            "8\n",
            "12\n",
            "24\n"
          ]
        }
      ]
    },
    {
      "cell_type": "code",
      "source": [
        "# Create a list of prime numbers between 1 to 100 using for loop & conditional statements.\n",
        "prime_list= []\n",
        "for i in range(2,100):    #i = 2,3,4,5,6......100\n",
        "  for j in range(2,i):    # if i= 4, j = 2,3\n",
        "    if i%j ==0:\n",
        "      break\n",
        "  else:\n",
        "    prime_list.append(i)\n",
        "prime_list"
      ],
      "metadata": {
        "id": "Jk5xrwKxq_qh",
        "colab": {
          "base_uri": "https://localhost:8080/"
        },
        "collapsed": true,
        "outputId": "e57fe45b-6562-42c5-8e08-cb4d4d598dc1"
      },
      "execution_count": null,
      "outputs": [
        {
          "output_type": "execute_result",
          "data": {
            "text/plain": [
              "[2,\n",
              " 3,\n",
              " 5,\n",
              " 7,\n",
              " 11,\n",
              " 13,\n",
              " 17,\n",
              " 19,\n",
              " 23,\n",
              " 29,\n",
              " 31,\n",
              " 37,\n",
              " 41,\n",
              " 43,\n",
              " 47,\n",
              " 53,\n",
              " 59,\n",
              " 61,\n",
              " 67,\n",
              " 71,\n",
              " 73,\n",
              " 79,\n",
              " 83,\n",
              " 89,\n",
              " 97]"
            ]
          },
          "metadata": {},
          "execution_count": 9
        }
      ]
    },
    {
      "cell_type": "markdown",
      "source": [
        "To find if there are any common factors between any 2 numbers given by the user. Print if there are any common factors."
      ],
      "metadata": {
        "id": "tuEc2hj0oTsG"
      }
    },
    {
      "cell_type": "code",
      "source": [],
      "metadata": {
        "id": "YQF9LHEDhljJ"
      },
      "execution_count": null,
      "outputs": []
    },
    {
      "cell_type": "code",
      "source": [],
      "metadata": {
        "id": "TpAfph_Tw-PE"
      },
      "execution_count": null,
      "outputs": []
    },
    {
      "cell_type": "code",
      "source": [
        "speed = 80\n",
        "while speed>30:\n",
        "  print('Speed Limit Crossed! Reduce the Speed!')\n",
        "  speed -= 10\n",
        "  print(speed)"
      ],
      "metadata": {
        "colab": {
          "base_uri": "https://localhost:8080/"
        },
        "id": "5eS2EF_5vsEW",
        "outputId": "1484ad5a-90c7-48c4-9a27-a28c2cb86db9"
      },
      "execution_count": null,
      "outputs": [
        {
          "output_type": "stream",
          "name": "stdout",
          "text": [
            "Speed Limit Crossed! Reduce the Speed!\n",
            "70\n",
            "Speed Limit Crossed! Reduce the Speed!\n",
            "60\n",
            "Speed Limit Crossed! Reduce the Speed!\n",
            "50\n",
            "Speed Limit Crossed! Reduce the Speed!\n",
            "40\n",
            "Speed Limit Crossed! Reduce the Speed!\n",
            "30\n"
          ]
        }
      ]
    },
    {
      "cell_type": "markdown",
      "source": [
        "- Take an integer user input.\n",
        "- Find the sum of all numbers starting from 1 to the number given as input from user.\n",
        "- If user has given number 5, then output should be 1+2+3+4+5 = 15"
      ],
      "metadata": {
        "id": "ZcyWDTHfxqsW"
      }
    },
    {
      "cell_type": "code",
      "source": [
        "num = int(input(\"Enter a number: \"))\n",
        "print(num)\n",
        "i = 1\n",
        "sum= 0\n",
        "while (i<=num):\n",
        "  sum=sum + i\n",
        "  i = i + 1\n",
        "print('The sum of numbers from 1 to', num, 'is', sum)"
      ],
      "metadata": {
        "colab": {
          "base_uri": "https://localhost:8080/"
        },
        "id": "fekvHrLSwaiq",
        "outputId": "e9fe9f9f-c81b-41f4-fd99-eb4426769c2a"
      },
      "execution_count": null,
      "outputs": [
        {
          "output_type": "stream",
          "name": "stdout",
          "text": [
            "Enter a number: 8\n",
            "8\n",
            "The sum of numbers from 1 to 8 is 36\n"
          ]
        }
      ]
    },
    {
      "cell_type": "code",
      "source": [
        "num = int(input(\"Enter a number: \"))\n",
        "print(num)\n",
        "i = 1\n",
        "factorial= 1\n",
        "while (i<=num):\n",
        "  factorial= factorial * i\n",
        "  i = i + 1\n",
        "print('The factorial of', num, 'is', factorial)"
      ],
      "metadata": {
        "colab": {
          "base_uri": "https://localhost:8080/"
        },
        "id": "PeepaByt0k4u",
        "outputId": "f5dc673a-9eb6-4c46-96e3-66d189c93249"
      },
      "execution_count": null,
      "outputs": [
        {
          "output_type": "stream",
          "name": "stdout",
          "text": [
            "Enter a number: 5\n",
            "5\n",
            "The factorial of 5 is 120\n"
          ]
        }
      ]
    },
    {
      "cell_type": "code",
      "source": [],
      "metadata": {
        "id": "cgYhHA2J3kzn"
      },
      "execution_count": null,
      "outputs": []
    },
    {
      "cell_type": "code",
      "source": [],
      "metadata": {
        "id": "1Z4Q7UXPvsW2"
      },
      "execution_count": null,
      "outputs": []
    },
    {
      "cell_type": "code",
      "source": [],
      "metadata": {
        "id": "2K3QMGE7q_0k"
      },
      "execution_count": null,
      "outputs": []
    },
    {
      "cell_type": "code",
      "source": [],
      "metadata": {
        "id": "0BkWoxYNdI7F"
      },
      "execution_count": null,
      "outputs": []
    }
  ]
}